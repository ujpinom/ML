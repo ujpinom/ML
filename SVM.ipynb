{
 "cells": [
  {
   "cell_type": "code",
   "execution_count": 1,
   "metadata": {},
   "outputs": [],
   "source": [
    "import numpy as np;import pandas as pd;import matplotlib.pyplot as plt;import seaborn as sns;sns.set()\n",
    "from sklearn.preprocessing import StandardScaler;from sklearn.datasets import load_iris\n",
    "iris=load_iris()\n"
   ]
  },
  {
   "cell_type": "code",
   "execution_count": 2,
   "metadata": {},
   "outputs": [],
   "source": [
    "\n",
    "x_train=iris.data[:,[2,3]]\n",
    "y_train=iris.target\n",
    "x_train_std=StandardScaler().fit_transform(x_train)\n"
   ]
  },
  {
   "cell_type": "markdown",
   "metadata": {},
   "source": [
    "# SVM para una tarea de clasificación lineal."
   ]
  },
  {
   "cell_type": "code",
   "execution_count": 3,
   "metadata": {},
   "outputs": [
    {
     "data": {
      "text/plain": [
       "SVC(C=0.5, break_ties=False, cache_size=200, class_weight=None, coef0=0.0,\n",
       "    decision_function_shape='ovr', degree=3, gamma='scale', kernel='linear',\n",
       "    max_iter=-1, probability=False, random_state=1, shrinking=True, tol=0.001,\n",
       "    verbose=False)"
      ]
     },
     "execution_count": 3,
     "metadata": {},
     "output_type": "execute_result"
    }
   ],
   "source": [
    "from sklearn.svm import SVC;from sklearn.model_selection import train_test_split\n",
    "X_train_std,X_test_std,y_train,y_test=train_test_split(x_train_std,y_train,random_state=1,stratify=y_train,test_size=0.3)\n",
    "modelo=SVC(C=0.5,kernel='linear',random_state=1)\n",
    "modelo.fit(X_train_std,y_train)\n"
   ]
  },
  {
   "cell_type": "code",
   "execution_count": 4,
   "metadata": {},
   "outputs": [
    {
     "data": {
      "text/plain": [
       "0.9777777777777777"
      ]
     },
     "execution_count": 4,
     "metadata": {},
     "output_type": "execute_result"
    }
   ],
   "source": [
    "y_predict=modelo.predict(X_test_std)\n",
    "from sklearn.metrics import accuracy_score\n",
    "accuracy_score(y_test,y_predict)\n"
   ]
  },
  {
   "cell_type": "code",
   "execution_count": 5,
   "metadata": {},
   "outputs": [],
   "source": [
    "\n",
    "def visualizar_fronteras(X,y,modelo,muestreo=0.02,test_set=None):\n",
    "    from matplotlib.colors import ListedColormap\n",
    "    marcadores=['^','v','o','^','v']\n",
    "    colores=['red','yellow','black','yellow','gray']\n",
    "    \n",
    "    mapa_colores=ListedColormap(colores[:len(np.unique(y))])\n",
    "    \n",
    "    x_min_f1,x_max_f1=(X[:,0]).min()-1,(X[:,0]).max()+1  ##Característica Longitud_cépalo\n",
    "    x_min_f2,x_max_f2=(X[:,1]).min()-1,(X[:,1]).max()+1###Característicaa longitud_pétalo\n",
    "    \n",
    "    vector1=np.arange(x_min_f1,x_max_f1,muestreo)\n",
    "    vector2=np.arange(x_min_f2,x_max_f2,muestreo)\n",
    "    \n",
    "    x_meshgrid,y_meshgrid=np.meshgrid(vector1,vector2)\n",
    "    \n",
    "    Z=modelo.predict(np.array([x_meshgrid.ravel(),y_meshgrid.ravel()]).T)\n",
    "    Z=Z.reshape(x_meshgrid.shape)\n",
    "    plt.contourf(x_meshgrid,y_meshgrid,Z,alpha=0.2,cmap=mapa_colores)\n",
    "    \n",
    "    plt.xlim(x_min_f1,x_max_f1)\n",
    "    plt.ylim(x_min_f2,x_max_f2)\n",
    "    \n",
    "    for i,index in enumerate(np.unique(y)):\n",
    "        plt.scatter(x=X[y==index,0],y=X[y==index,1],marker=marcadores[i],alpha=0.8,edgecolor='black',label=index)\n",
    "        plt.legend(loc='lower right')\n",
    "    if test_set:\n",
    "        x=X[test_set,:]\n",
    "        plt.scatter(x[:,0],x[:,1],c='', edgecolor='black', alpha=1.0,linewidth=1, marker='o',\n",
    "    s=100, label='conjunto_testeo')"
   ]
  },
  {
   "cell_type": "code",
   "execution_count": 6,
   "metadata": {},
   "outputs": [
    {
     "data": {
      "image/png": "[encoded data removed]",
      "text/plain": [
       "<Figure size 432x288 with 1 Axes>"
      ]
     },
     "metadata": {},
     "output_type": "display_data"
    }
   ],
   "source": [
    "visualizar_fronteras(X_train_std,y_train,modelo=modelo)"
   ]
  },
  {
   "cell_type": "code",
   "execution_count": null,
   "metadata": {},
   "outputs": [],
   "source": []
  }
 ],
 "metadata": {
  "kernelspec": {
   "display_name": "Python 3",
   "language": "python",
   "name": "python3"
  },
  "language_info": {
   "codemirror_mode": {
    "name": "ipython",
    "version": 3
   },
   "file_extension": ".py",
   "mimetype": "text/x-python",
   "name": "python",
   "nbconvert_exporter": "python",
   "pygments_lexer": "ipython3",
   "version": "3.7.6"
  }
 },
 "nbformat": 4,
 "nbformat_minor": 4
}
