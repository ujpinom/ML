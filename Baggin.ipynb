{
 "cells": [
  {
   "cell_type": "code",
   "execution_count": 1,
   "metadata": {
    "scrolled": true
   },
   "outputs": [
    {
     "data": {
      "text/html": [
       "<div>\n",
       "<style scoped>\n",
       "    .dataframe tbody tr th:only-of-type {\n",
       "        vertical-align: middle;\n",
       "    }\n",
       "\n",
       "    .dataframe tbody tr th {\n",
       "        vertical-align: top;\n",
       "    }\n",
       "\n",
       "    .dataframe thead th {\n",
       "        text-align: right;\n",
       "    }\n",
       "</style>\n",
       "<table border=\"1\" class=\"dataframe\">\n",
       "  <thead>\n",
       "    <tr style=\"text-align: right;\">\n",
       "      <th></th>\n",
       "      <th>Class label</th>\n",
       "      <th>Alcohol</th>\n",
       "      <th>Malic acid</th>\n",
       "      <th>Ash</th>\n",
       "      <th>Alcalinity of ash</th>\n",
       "      <th>Magnesium</th>\n",
       "      <th>Total phenols</th>\n",
       "      <th>Flavanoids</th>\n",
       "      <th>Nonflavanoid phenols</th>\n",
       "      <th>Proanthocyanins</th>\n",
       "      <th>Color intensity</th>\n",
       "      <th>Hue</th>\n",
       "      <th>OD280/OD315 of diluted wines</th>\n",
       "      <th>Proline</th>\n",
       "    </tr>\n",
       "  </thead>\n",
       "  <tbody>\n",
       "    <tr>\n",
       "      <th>59</th>\n",
       "      <td>2</td>\n",
       "      <td>12.37</td>\n",
       "      <td>0.94</td>\n",
       "      <td>1.36</td>\n",
       "      <td>10.6</td>\n",
       "      <td>88</td>\n",
       "      <td>1.98</td>\n",
       "      <td>0.57</td>\n",
       "      <td>0.28</td>\n",
       "      <td>0.42</td>\n",
       "      <td>1.95</td>\n",
       "      <td>1.05</td>\n",
       "      <td>1.82</td>\n",
       "      <td>520</td>\n",
       "    </tr>\n",
       "    <tr>\n",
       "      <th>60</th>\n",
       "      <td>2</td>\n",
       "      <td>12.33</td>\n",
       "      <td>1.10</td>\n",
       "      <td>2.28</td>\n",
       "      <td>16.0</td>\n",
       "      <td>101</td>\n",
       "      <td>2.05</td>\n",
       "      <td>1.09</td>\n",
       "      <td>0.63</td>\n",
       "      <td>0.41</td>\n",
       "      <td>3.27</td>\n",
       "      <td>1.25</td>\n",
       "      <td>1.67</td>\n",
       "      <td>680</td>\n",
       "    </tr>\n",
       "    <tr>\n",
       "      <th>61</th>\n",
       "      <td>2</td>\n",
       "      <td>12.64</td>\n",
       "      <td>1.36</td>\n",
       "      <td>2.02</td>\n",
       "      <td>16.8</td>\n",
       "      <td>100</td>\n",
       "      <td>2.02</td>\n",
       "      <td>1.41</td>\n",
       "      <td>0.53</td>\n",
       "      <td>0.62</td>\n",
       "      <td>5.75</td>\n",
       "      <td>0.98</td>\n",
       "      <td>1.59</td>\n",
       "      <td>450</td>\n",
       "    </tr>\n",
       "    <tr>\n",
       "      <th>62</th>\n",
       "      <td>2</td>\n",
       "      <td>13.67</td>\n",
       "      <td>1.25</td>\n",
       "      <td>1.92</td>\n",
       "      <td>18.0</td>\n",
       "      <td>94</td>\n",
       "      <td>2.10</td>\n",
       "      <td>1.79</td>\n",
       "      <td>0.32</td>\n",
       "      <td>0.73</td>\n",
       "      <td>3.80</td>\n",
       "      <td>1.23</td>\n",
       "      <td>2.46</td>\n",
       "      <td>630</td>\n",
       "    </tr>\n",
       "    <tr>\n",
       "      <th>63</th>\n",
       "      <td>2</td>\n",
       "      <td>12.37</td>\n",
       "      <td>1.13</td>\n",
       "      <td>2.16</td>\n",
       "      <td>19.0</td>\n",
       "      <td>87</td>\n",
       "      <td>3.50</td>\n",
       "      <td>3.10</td>\n",
       "      <td>0.19</td>\n",
       "      <td>1.87</td>\n",
       "      <td>4.45</td>\n",
       "      <td>1.22</td>\n",
       "      <td>2.87</td>\n",
       "      <td>420</td>\n",
       "    </tr>\n",
       "    <tr>\n",
       "      <th>...</th>\n",
       "      <td>...</td>\n",
       "      <td>...</td>\n",
       "      <td>...</td>\n",
       "      <td>...</td>\n",
       "      <td>...</td>\n",
       "      <td>...</td>\n",
       "      <td>...</td>\n",
       "      <td>...</td>\n",
       "      <td>...</td>\n",
       "      <td>...</td>\n",
       "      <td>...</td>\n",
       "      <td>...</td>\n",
       "      <td>...</td>\n",
       "      <td>...</td>\n",
       "    </tr>\n",
       "    <tr>\n",
       "      <th>173</th>\n",
       "      <td>3</td>\n",
       "      <td>13.71</td>\n",
       "      <td>5.65</td>\n",
       "      <td>2.45</td>\n",
       "      <td>20.5</td>\n",
       "      <td>95</td>\n",
       "      <td>1.68</td>\n",
       "      <td>0.61</td>\n",
       "      <td>0.52</td>\n",
       "      <td>1.06</td>\n",
       "      <td>7.70</td>\n",
       "      <td>0.64</td>\n",
       "      <td>1.74</td>\n",
       "      <td>740</td>\n",
       "    </tr>\n",
       "    <tr>\n",
       "      <th>174</th>\n",
       "      <td>3</td>\n",
       "      <td>13.40</td>\n",
       "      <td>3.91</td>\n",
       "      <td>2.48</td>\n",
       "      <td>23.0</td>\n",
       "      <td>102</td>\n",
       "      <td>1.80</td>\n",
       "      <td>0.75</td>\n",
       "      <td>0.43</td>\n",
       "      <td>1.41</td>\n",
       "      <td>7.30</td>\n",
       "      <td>0.70</td>\n",
       "      <td>1.56</td>\n",
       "      <td>750</td>\n",
       "    </tr>\n",
       "    <tr>\n",
       "      <th>175</th>\n",
       "      <td>3</td>\n",
       "      <td>13.27</td>\n",
       "      <td>4.28</td>\n",
       "      <td>2.26</td>\n",
       "      <td>20.0</td>\n",
       "      <td>120</td>\n",
       "      <td>1.59</td>\n",
       "      <td>0.69</td>\n",
       "      <td>0.43</td>\n",
       "      <td>1.35</td>\n",
       "      <td>10.20</td>\n",
       "      <td>0.59</td>\n",
       "      <td>1.56</td>\n",
       "      <td>835</td>\n",
       "    </tr>\n",
       "    <tr>\n",
       "      <th>176</th>\n",
       "      <td>3</td>\n",
       "      <td>13.17</td>\n",
       "      <td>2.59</td>\n",
       "      <td>2.37</td>\n",
       "      <td>20.0</td>\n",
       "      <td>120</td>\n",
       "      <td>1.65</td>\n",
       "      <td>0.68</td>\n",
       "      <td>0.53</td>\n",
       "      <td>1.46</td>\n",
       "      <td>9.30</td>\n",
       "      <td>0.60</td>\n",
       "      <td>1.62</td>\n",
       "      <td>840</td>\n",
       "    </tr>\n",
       "    <tr>\n",
       "      <th>177</th>\n",
       "      <td>3</td>\n",
       "      <td>14.13</td>\n",
       "      <td>4.10</td>\n",
       "      <td>2.74</td>\n",
       "      <td>24.5</td>\n",
       "      <td>96</td>\n",
       "      <td>2.05</td>\n",
       "      <td>0.76</td>\n",
       "      <td>0.56</td>\n",
       "      <td>1.35</td>\n",
       "      <td>9.20</td>\n",
       "      <td>0.61</td>\n",
       "      <td>1.60</td>\n",
       "      <td>560</td>\n",
       "    </tr>\n",
       "  </tbody>\n",
       "</table>\n",
       "<p>119 rows × 14 columns</p>\n",
       "</div>"
      ],
      "text/plain": [
       "     Class label  Alcohol  Malic acid   Ash  Alcalinity of ash  Magnesium  \\\n",
       "59             2    12.37        0.94  1.36               10.6         88   \n",
       "60             2    12.33        1.10  2.28               16.0        101   \n",
       "61             2    12.64        1.36  2.02               16.8        100   \n",
       "62             2    13.67        1.25  1.92               18.0         94   \n",
       "63             2    12.37        1.13  2.16               19.0         87   \n",
       "..           ...      ...         ...   ...                ...        ...   \n",
       "173            3    13.71        5.65  2.45               20.5         95   \n",
       "174            3    13.40        3.91  2.48               23.0        102   \n",
       "175            3    13.27        4.28  2.26               20.0        120   \n",
       "176            3    13.17        2.59  2.37               20.0        120   \n",
       "177            3    14.13        4.10  2.74               24.5         96   \n",
       "\n",
       "     Total phenols  Flavanoids  Nonflavanoid phenols  Proanthocyanins  \\\n",
       "59            1.98        0.57                  0.28             0.42   \n",
       "60            2.05        1.09                  0.63             0.41   \n",
       "61            2.02        1.41                  0.53             0.62   \n",
       "62            2.10        1.79                  0.32             0.73   \n",
       "63            3.50        3.10                  0.19             1.87   \n",
       "..             ...         ...                   ...              ...   \n",
       "173           1.68        0.61                  0.52             1.06   \n",
       "174           1.80        0.75                  0.43             1.41   \n",
       "175           1.59        0.69                  0.43             1.35   \n",
       "176           1.65        0.68                  0.53             1.46   \n",
       "177           2.05        0.76                  0.56             1.35   \n",
       "\n",
       "     Color intensity   Hue  OD280/OD315 of diluted wines  Proline  \n",
       "59              1.95  1.05                          1.82      520  \n",
       "60              3.27  1.25                          1.67      680  \n",
       "61              5.75  0.98                          1.59      450  \n",
       "62              3.80  1.23                          2.46      630  \n",
       "63              4.45  1.22                          2.87      420  \n",
       "..               ...   ...                           ...      ...  \n",
       "173             7.70  0.64                          1.74      740  \n",
       "174             7.30  0.70                          1.56      750  \n",
       "175            10.20  0.59                          1.56      835  \n",
       "176             9.30  0.60                          1.62      840  \n",
       "177             9.20  0.61                          1.60      560  \n",
       "\n",
       "[119 rows x 14 columns]"
      ]
     },
     "execution_count": 1,
     "metadata": {},
     "output_type": "execute_result"
    }
   ],
   "source": [
    "import pandas as pd;import numpy as np\n",
    "\n",
    "vinos=pd.read_csv(r'C:\\Users\\SONY\\Desktop\\NumPy\\wine.data',header=None)\n",
    "vinos.columns=['Class label', 'Alcohol', 'Malic acid', 'Ash','Alcalinity of ash','Magnesium', 'Total phenols',\n",
    " 'Flavanoids', 'Nonflavanoid phenols','Proanthocyanins','Color intensity', 'Hue','OD280/OD315 of diluted wines',\n",
    " 'Proline']\n",
    "vinos=vinos[vinos['Class label']!=1]\n",
    "y=vinos['Class label'].values\n",
    "X=vinos[['Alcohol','OD280/OD315 of diluted wines']].values\n",
    "vinos\n",
    "\n",
    "\n"
   ]
  },
  {
   "cell_type": "code",
   "execution_count": 2,
   "metadata": {},
   "outputs": [
    {
     "data": {
      "text/plain": [
       "3.69"
      ]
     },
     "execution_count": 2,
     "metadata": {},
     "output_type": "execute_result"
    }
   ],
   "source": [
    "vinos['OD280/OD315 of diluted wines'].max()"
   ]
  },
  {
   "cell_type": "markdown",
   "metadata": {},
   "source": [
    "### Sólo se escogen las dos características que anteriormente se ha demostrado que tienen mayor relevancia en la clasificación"
   ]
  },
  {
   "cell_type": "code",
   "execution_count": 3,
   "metadata": {},
   "outputs": [],
   "source": [
    "from sklearn.preprocessing import LabelEncoder;from sklearn.model_selection import train_test_split\n",
    "y=LabelEncoder().fit_transform(y)\n",
    "X_train,X_test,y_train,y_test=train_test_split(X,y,random_state=1,test_size=0.2,stratify=y)\n",
    "\n"
   ]
  },
  {
   "cell_type": "code",
   "execution_count": 4,
   "metadata": {},
   "outputs": [
    {
     "data": {
      "text/plain": [
       "Text(0.5, 0, 'Alcohol')"
      ]
     },
     "execution_count": 4,
     "metadata": {},
     "output_type": "execute_result"
    },
    {
     "data": {
      "image/png": "[encoded data removed]",
      "text/plain": [
       "<Figure size 432x288 with 1 Axes>"
      ]
     },
     "metadata": {
      "needs_background": "light"
     },
     "output_type": "display_data"
    }
   ],
   "source": [
    "import matplotlib.pyplot as plt\n",
    "\n",
    "plt.scatter(X_train[y_train==0,0],X_train[y_train==0,1],color='blue',label='Class 2')\n",
    "plt.scatter(X_train[y_train==1,0],X_train[y_train==1,1],color='red',label='Class 3',marker='x')\n",
    "plt.legend()\n",
    "plt.ylabel('OD280/OD315 of diluted wines');plt.xlabel('Alcohol')"
   ]
  },
  {
   "cell_type": "code",
   "execution_count": 5,
   "metadata": {},
   "outputs": [],
   "source": [
    "from sklearn.tree import DecisionTreeClassifier;from sklearn.ensemble import BaggingClassifier\n",
    "arbol=DecisionTreeClassifier(random_state=1,max_depth=None,criterion='entropy')\n",
    "bag=BaggingClassifier(base_estimator=arbol,n_estimators=500,random_state=1,n_jobs=-1)"
   ]
  },
  {
   "cell_type": "markdown",
   "metadata": {},
   "source": [
    "#### Primero se estima la predición de un único estimador, en este caso, un Arbol de Decisión el cual clasifica de forma precisa el conjunto de entrenamiento, pero falla notablemente al momento de clasificar conjuntos de datos no vistos con anterioridad. Se puede entonces concluir que el estimador sufre de Overfittin(High-variance) "
   ]
  },
  {
   "cell_type": "code",
   "execution_count": 6,
   "metadata": {},
   "outputs": [
    {
     "name": "stdout",
     "output_type": "stream",
     "text": [
      "Precisión entrenamiento:1.0\n",
      "Precisión test:0.83\n"
     ]
    }
   ],
   "source": [
    "from sklearn.metrics import accuracy_score\n",
    "#arbol=arbol.fit(X_train,y_train)\n",
    "\n",
    "y_train_pred=arbol.fit(X_train,y_train).predict(X_train)\n",
    "y_test_pred=arbol.predict(X_test)\n",
    "print(f'Precisión entrenamiento:{accuracy_score(y_train,y_train_pred)}\\nPrecisión test:{accuracy_score(y_test,y_test_pred):.2f}')"
   ]
  },
  {
   "cell_type": "markdown",
   "metadata": {},
   "source": [
    "#### Cuando se implementa Bagging Classifier se puede observar que el rendimiento en general mejora, especialmente en la predición sobre conjuntos de datos no vistos con anterioridad por el modelo. "
   ]
  },
  {
   "cell_type": "code",
   "execution_count": 7,
   "metadata": {},
   "outputs": [
    {
     "name": "stdout",
     "output_type": "stream",
     "text": [
      "Precisión entrenamiento:1.0\n",
      "Precisión test:0.92\n"
     ]
    }
   ],
   "source": [
    "y_train_pred_bag=bag.fit(X_train,y_train).predict(X_train)\n",
    "y_test_pred_bag=bag.predict(X_test)\n",
    "print(f'Precisión entrenamiento:{accuracy_score(y_train,y_train_pred_bag)}\\nPrecisión test:{accuracy_score(y_test,y_test_pred_bag):.2f}')"
   ]
  },
  {
   "cell_type": "markdown",
   "metadata": {},
   "source": [
    "#### A continuación se gráfica las superficies de decisión de ambos estimadores. "
   ]
  },
  {
   "cell_type": "code",
   "execution_count": 12,
   "metadata": {},
   "outputs": [
    {
     "data": {
      "text/plain": [
       "Text(0, 0.5, 'OD280/OD315 of diluted wines')"
      ]
     },
     "execution_count": 12,
     "metadata": {},
     "output_type": "execute_result"
    },
    {
     "data": {
      "image/png": "[encoded data removed]",
      "text/plain": [
       "<Figure size 864x432 with 2 Axes>"
      ]
     },
     "metadata": {
      "needs_background": "light"
     },
     "output_type": "display_data"
    }
   ],
   "source": [
    "import numpy as np;import matplotlib.pyplot as plt;import seaborn as sns;\n",
    "\n",
    "x_min=np.min(X_train[:,0])-1\n",
    "x_max=np.max(X_train[:,0])+1\n",
    "y_min=np.min(X_train[:,1])-1\n",
    "y_max=np.max(X_train[:,1])+1\n",
    "\n",
    "vector1=np.arange(x_min,x_max,0.01);vector2=np.arange(y_min,y_max,0.01)\n",
    "x_meshgrid,y_meshgrid=np.meshgrid(vector1,vector2)\n",
    "fig,ax=plt.subplots(nrows=1,ncols=2,figsize=(12,6),sharey='row',sharex='col')\n",
    "\n",
    "clasificadores=[arbol,bag];nombres=['Decisicion Tree','Bagging Classifier']\n",
    "\n",
    "for index,clasificador,nombre in zip([0,1],clasificadores,nombres):\n",
    "    Z=clasificador.predict(np.array([x_meshgrid.ravel(),y_meshgrid.ravel()]).T)\n",
    "    Z=Z.reshape(x_meshgrid.shape)\n",
    "    ax[index].contourf(x_meshgrid,y_meshgrid,Z,alpha=0.4,cmap='plasma')\n",
    "    ax[index].set_title(nombre)\n",
    "    ax[index].scatter(X_train[y_train==0,0],X_train[y_train==0,1],color='blue',marker='o')\n",
    "    ax[index].scatter(X_train[y_train==1,0],X_train[y_train==1,1],color='red',marker='x')\n",
    "    ax[index].set_xlabel('Alcohol')\n",
    "    \n",
    "ax[0].set_ylabel('OD280/OD315 of diluted wines')"
   ]
  }
 ],
 "metadata": {
  "kernelspec": {
   "display_name": "Python 3",
   "language": "python",
   "name": "python3"
  },
  "language_info": {
   "codemirror_mode": {
    "name": "ipython",
    "version": 3
   },
   "file_extension": ".py",
   "mimetype": "text/x-python",
   "name": "python",
   "nbconvert_exporter": "python",
   "pygments_lexer": "ipython3",
   "version": "3.7.6"
  }
 },
 "nbformat": 4,
 "nbformat_minor": 4
}
