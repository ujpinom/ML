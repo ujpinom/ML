{
 "cells": [
  {
   "cell_type": "code",
   "execution_count": 29,
   "metadata": {},
   "outputs": [],
   "source": [
    "import numpy as np;import pandas as pd;\n",
    "\n",
    "wine = pd.read_csv(r'C:\\Users\\SONY\\Desktop\\NumPy\\wine.data',\n",
    "header=None)\n",
    "X=wine.iloc[:,1:]\n",
    "y=wine.iloc[:,0]\n"
   ]
  },
  {
   "cell_type": "code",
   "execution_count": 30,
   "metadata": {},
   "outputs": [],
   "source": [
    "from sklearn.model_selection import train_test_split;from sklearn.preprocessing import StandardScaler\n",
    "X_train,X_test,y_train,y_test=train_test_split(X,y,test_size=0.3,stratify=y,random_state=1)\n",
    "std=StandardScaler()\n",
    "X_train_std=std.fit_transform(X_train)\n",
    "X_test_std=std.transform(X_test)"
   ]
  },
  {
   "cell_type": "code",
   "execution_count": 31,
   "metadata": {},
   "outputs": [],
   "source": [
    "import numpy as np;\n",
    "matriz_covarianza=np.cov(X_train_std.T)\n",
    "eigenvalues,eigenvectors=np.linalg.eig(matriz_covarianza)  ###Retorna los correspondientes eigenvalores y eigenvectores del \n",
    "#argumento resibido\n"
   ]
  },
  {
   "cell_type": "code",
   "execution_count": 32,
   "metadata": {},
   "outputs": [
    {
     "data": {
      "text/plain": [
       "array([4.7095539 , 2.63606471, 1.55728758, 0.93422662, 0.85129454,\n",
       "       0.5709688 , 0.46462025, 0.37764772, 0.10409155, 0.14951983,\n",
       "       0.21165109, 0.2630501 , 0.27571434])"
      ]
     },
     "execution_count": 32,
     "metadata": {},
     "output_type": "execute_result"
    }
   ],
   "source": [
    "eigenvalues"
   ]
  },
  {
   "cell_type": "code",
   "execution_count": 33,
   "metadata": {},
   "outputs": [],
   "source": [
    "suma_eigvalues=np.sum(eigenvalues)\n"
   ]
  }
 ],
 "metadata": {
  "kernelspec": {
   "display_name": "Python 3",
   "language": "python",
   "name": "python3"
  },
  "language_info": {
   "codemirror_mode": {
    "name": "ipython",
    "version": 3
   },
   "file_extension": ".py",
   "mimetype": "text/x-python",
   "name": "python",
   "nbconvert_exporter": "python",
   "pygments_lexer": "ipython3",
   "version": "3.7.6"
  }
 },
 "nbformat": 4,
 "nbformat_minor": 4
}
