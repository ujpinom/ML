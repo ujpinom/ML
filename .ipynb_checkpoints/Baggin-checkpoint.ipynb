{
 "cells": [
  {
   "cell_type": "code",
   "execution_count": 1,
   "metadata": {},
   "outputs": [],
   "source": [
    "import pandas as pd;import numpy as np\n",
    "\n",
    "vinos=pd.read_csv(r'C:\\Users\\SONY\\Desktop\\NumPy\\wine.data',header=None)\n",
    "vinos.columns=['Class label', 'Alcohol', 'Malic acid', 'Ash','Alcalinity of ash','Magnesium', 'Total phenols',\n",
    " 'Flavanoids', 'Nonflavanoid phenols','Proanthocyanins','Color intensity', 'Hue','OD280/OD315 of diluted wines',\n",
    " 'Proline']\n",
    "vinos=vinos[vinos['Class label']!=1]\n",
    "y=vinos['Class label'].values\n",
    "X=vinos[['Alcohol','OD280/OD315 of diluted wines']].values\n",
    "\n",
    "\n"
   ]
  },
  {
   "cell_type": "markdown",
   "metadata": {},
   "source": [
    "### Sólo se escogen las dos características que anteriormente se ha demostrado que tienen mayor relevancia en la clasificación"
   ]
  },
  {
   "cell_type": "code",
   "execution_count": 2,
   "metadata": {},
   "outputs": [],
   "source": [
    "from sklearn.preprocessing import LabelEncoder;from sklearn.model_selection import train_test_split\n",
    "y=LabelEncoder().fit_transform(y)\n",
    "X_train,X_test,y_train,y_test=train_test_split(X,y,random_state=1,test_size=0.2,stratify=y)\n",
    "\n"
   ]
  },
  {
   "cell_type": "code",
   "execution_count": 3,
   "metadata": {},
   "outputs": [
    {
     "data": {
      "text/plain": [
       "<matplotlib.legend.Legend at 0x1d2adc4c908>"
      ]
     },
     "execution_count": 3,
     "metadata": {},
     "output_type": "execute_result"
    },
    {
     "data": {
      "image/png": "[encoded data removed]",
      "text/plain": [
       "<Figure size 432x288 with 1 Axes>"
      ]
     },
     "metadata": {
      "needs_background": "light"
     },
     "output_type": "display_data"
    }
   ],
   "source": [
    "import matplotlib.pyplot as plt\n",
    "\n",
    "plt.scatter(X_train[y_train==0,0],X_train[y_train==0,1],color='blue',label='Class 2')\n",
    "plt.scatter(X_train[y_train==1,0],X_train[y_train==1,1],color='red',label='Class 3')\n",
    "plt.legend()"
   ]
  },
  {
   "cell_type": "code",
   "execution_count": 4,
   "metadata": {},
   "outputs": [],
   "source": [
    "from sklearn.tree import DecisionTreeClassifier;from sklearn.ensemble import BaggingClassifier\n",
    "arbol=DecisionTreeClassifier(random_state=1,max_depth=None)\n",
    "bag=BaggingClassifier(base_estimator=arbol,n_estimators=500,random_state=1,n_jobs=-1)"
   ]
  },
  {
   "cell_type": "markdown",
   "metadata": {},
   "source": [
    "#### Primero se estima la predición de un único estimador, en este caso, un Arbol de Decisión el cual clasifica de forma precisa el conjunto de entrenamiento, pero falla notablemente al momento de clasificar conjuntos de datos no vistos con anterioridad. Se puede entonces concluir que el estimador sufre de Overfittin(High-variance) "
   ]
  },
  {
   "cell_type": "code",
   "execution_count": 12,
   "metadata": {},
   "outputs": [
    {
     "name": "stdout",
     "output_type": "stream",
     "text": [
      "Precisión entrenamiento:1.0\n",
      "Precisión test:0.83\n"
     ]
    }
   ],
   "source": [
    "from sklearn.metrics import accuracy_score\n",
    "#arbol=arbol.fit(X_train,y_train)\n",
    "\n",
    "y_train_pred=arbol.fit(X_train,y_train).predict(X_train)\n",
    "y_test_pred=arbol.predict(X_test)\n",
    "print(f'Precisión entrenamiento:{accuracy_score(y_train,y_train_pred)}\\nPrecisión test:{accuracy_score(y_test,y_test_pred):.2f}')"
   ]
  },
  {
   "cell_type": "markdown",
   "metadata": {},
   "source": [
    "#### Cuando se implementa Bagging Classifier se puede observar que el rendimiento en general mejora, especialmente en la predición sobre conjuntos de datos no vistos con anterioridad por el modelo. "
   ]
  },
  {
   "cell_type": "code",
   "execution_count": 13,
   "metadata": {},
   "outputs": [
    {
     "name": "stdout",
     "output_type": "stream",
     "text": [
      "Precisión entrenamiento:1.0\n",
      "Precisión test:0.92\n"
     ]
    }
   ],
   "source": [
    "y_train_pred_bag=bag.fit(X_train,y_train).predict(X_train)\n",
    "y_test_pred_bag=bag.predict(X_test)\n",
    "print(f'Precisión entrenamiento:{accuracy_score(y_train,y_train_pred_bag)}\\nPrecisión test:{accuracy_score(y_test,y_test_pred_bag):.2f}')"
   ]
  },
  {
   "cell_type": "markdown",
   "metadata": {},
   "source": [
    "#### A continuación se gráfica las superficies de decisión de ambos estimadores. "
   ]
  },
  {
   "cell_type": "code",
   "execution_count": 18,
   "metadata": {},
   "outputs": [],
   "source": [
    "import numpy as np;import matplotlib.pyplot as plt;import seaborn as sns;\n",
    "\n",
    "x_min=np.min(X_train[:,0])-1\n",
    "x_max=np.max(X_train[:,0])+1\n",
    "y_min=np.min(X_train[:,1])-1\n",
    "y_max=np.max(X_train[:,1])+1\n",
    "\n",
    "vector1=np.arange(x_min,x_max,0.01);vector2=np.arange(y_min,y_max,0.01)\n",
    "x_meshgrid,y_meshgrid=np.meshgrid(vector1,vector2)\n",
    "fig,ax=plt.subplots(nrows=1,ncols=2,figsize=(12,6),sharey='row',sharex='col')\n",
    "\n",
    "\n",
    "\n",
    "\n"
   ]
  }
 ],
 "metadata": {
  "kernelspec": {
   "display_name": "Python 3",
   "language": "python",
   "name": "python3"
  },
  "language_info": {
   "codemirror_mode": {
    "name": "ipython",
    "version": 3
   },
   "file_extension": ".py",
   "mimetype": "text/x-python",
   "name": "python",
   "nbconvert_exporter": "python",
   "pygments_lexer": "ipython3",
   "version": "3.7.6"
  }
 },
 "nbformat": 4,
 "nbformat_minor": 4
}
