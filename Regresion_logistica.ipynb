{
 "cells": [
  {
   "cell_type": "code",
   "execution_count": 2,
   "metadata": {},
   "outputs": [],
   "source": [
    "import numpy as np;import pandas as pd;import matplotlib.pyplot as plt;import seaborn as sns;sns.set()"
   ]
  },
  {
   "cell_type": "code",
   "execution_count": 19,
   "metadata": {},
   "outputs": [
    {
     "data": {
      "image/png": "[encoded data removed]",
      "text/plain": [
       "<Figure size 432x288 with 1 Axes>"
      ]
     },
     "metadata": {},
     "output_type": "display_data"
    }
   ],
   "source": [
    "###Funcion sigmoid(z) \n",
    "import numpy as np\n",
    "\n",
    "def sigmoid_fuc(x):\n",
    "    return 1/(1+np.exp(-x))\n",
    "\n",
    "z=np.arange(-7,7,0.1)\n",
    "phi_z=sigmoid_fuc(z)\n",
    "plt.plot(z,phi_z)\n",
    "plt.axvline(0,color='black')\n",
    "plt.yticks([0,0.5,1])\n",
    "plt.xlabel('Z');plt.ylabel('$\\phi(z)$')\n",
    "ax=plt.gca()\n",
    "ax.yaxis.grid(True) ###Establece grilla en el eje y\n",
    "ax.xaxis.grid(False) ##quitar ticks del eje x\n",
    "\n"
   ]
  },
  {
   "cell_type": "code",
   "execution_count": 23,
   "metadata": {},
   "outputs": [
    {
     "data": {
      "text/plain": [
       "<matplotlib.legend.Legend at 0x24e58b91a48>"
      ]
     },
     "execution_count": 23,
     "metadata": {},
     "output_type": "execute_result"
    },
    {
     "data": {
      "image/png": "[encoded data removed]",
      "text/plain": [
       "<Figure size 432x288 with 1 Axes>"
      ]
     },
     "metadata": {},
     "output_type": "display_data"
    }
   ],
   "source": [
    "# import numpy as np\n",
    "c1=-np.log(phi_z)\n",
    "c0=-np.log(1-phi_z)\n",
    "plt.plot(phi_z,c1,c='red',label='if y=1')\n",
    "plt.plot(phi_z,c0,c='blue',label='if y=0',linestyle='--')\n",
    "plt.legend()"
   ]
  },
  {
   "cell_type": "code",
   "execution_count": 78,
   "metadata": {},
   "outputs": [],
   "source": [
    "from sklearn.datasets import load_iris;from sklearn.preprocessing import StandardScaler\n",
    "\n",
    "y_train=load_iris().target[(load_iris().target==1) | (load_iris().target==0)]\n",
    "y_train\n",
    "x_train=load_iris().data[(load_iris().target==1) | (load_iris().target==0)]\n",
    "x_train=x_train[:,[2,3]]\n",
    "x_train_std=StandardScaler().fit_transform(x_train)\n"
   ]
  },
  {
   "cell_type": "code",
   "execution_count": 79,
   "metadata": {},
   "outputs": [],
   "source": [
    "class LGGD():\n",
    "\n",
    "    import numpy as np;\n",
    "    def __init__(self,epoch,n_rate,random_state):\n",
    "        self.epoch=epoch\n",
    "        self.n_rate=n_rate\n",
    "        self.random_state=random_state\n",
    "\n",
    "    def fit(self,X,y):\n",
    "        import numpy as np;\n",
    "        rgen=  np.random.RandomState(self.random_state)\n",
    "        self.pesos=rgen.normal(loc=0,scale=0.01,size=X.shape[1]+1)\n",
    "\n",
    "        self.costo=[]\n",
    "\n",
    "        for i in range(self.epoch):\n",
    "            net=self.net_input(X)\n",
    "            salida=self.activacion(net)\n",
    "            errores=y-salida\n",
    "            self.pesos[1:]+=self.n_rate*X.T.dot(errores)\n",
    "            self.pesos[0]+=np.sum(errores)*self.n_rate\n",
    "            costo = (-y.dot(np.log(salida)) -\n",
    "                    ((1 - y).dot(np.log(1 - salida))));\n",
    "            self.costo.append(costo)\n",
    "\n",
    "        return self\n",
    "\n",
    "\n",
    "    def activacion(self,z):\n",
    "        return 1. / (1. + np.exp(-np.clip(z, -250, 250)))\n",
    "\n",
    "    def net_input(self,x):\n",
    "        return np.dot(x,self.pesos[1:])+self.pesos[0]\n",
    "\n",
    "    def predict(self,X):\n",
    "        return np.where(self.net_input(X)>=0,1,0)\n"
   ]
  },
  {
   "cell_type": "code",
   "execution_count": 80,
   "metadata": {},
   "outputs": [
    {
     "data": {
      "text/plain": [
       "<__main__.LGGD at 0x24e5a3d1f88>"
      ]
     },
     "execution_count": 80,
     "metadata": {},
     "output_type": "execute_result"
    }
   ],
   "source": [
    "ppn=LGGD(1000,0.05,1)\n",
    "ppn.fit(x_train_std,y_train)\n"
   ]
  },
  {
   "cell_type": "code",
   "execution_count": 81,
   "metadata": {},
   "outputs": [],
   "source": [
    "\n",
    "def visualizar_fronteras(X,y,modelo,muestreo=0.02,test_set=None):\n",
    "    from matplotlib.colors import ListedColormap\n",
    "    marcadores=['^','v','o','^','v']\n",
    "    colores=['red','yellow','black','yellow','gray']\n",
    "    \n",
    "    mapa_colores=ListedColormap(colores[:len(np.unique(y))])\n",
    "    \n",
    "    x_min_f1,x_max_f1=(X[:,0]).min()-1,(X[:,0]).max()+1  ##Característica Longitud_cépalo\n",
    "    x_min_f2,x_max_f2=(X[:,1]).min()-1,(X[:,1]).max()+1###Característicaa longitud_pétalo\n",
    "    \n",
    "    vector1=np.arange(x_min_f1,x_max_f1,muestreo)\n",
    "    vector2=np.arange(x_min_f2,x_max_f2,muestreo)\n",
    "    \n",
    "    x_meshgrid,y_meshgrid=np.meshgrid(vector1,vector2)\n",
    "    \n",
    "    Z=modelo.predict(np.array([x_meshgrid.ravel(),y_meshgrid.ravel()]).T)\n",
    "    Z=Z.reshape(x_meshgrid.shape)\n",
    "    plt.contourf(x_meshgrid,y_meshgrid,Z,alpha=0.2,cmap=mapa_colores)\n",
    "    \n",
    "    plt.xlim(x_min_f1,x_max_f1)\n",
    "    plt.ylim(x_min_f2,x_max_f2)\n",
    "    \n",
    "    for i,index in enumerate(np.unique(y)):\n",
    "        plt.scatter(x=X[y==index,0],y=X[y==index,1],marker=marcadores[i],alpha=0.8,edgecolor='black',label=index)\n",
    "        plt.legend(loc='lower right')\n",
    "    if test_set:\n",
    "        x=X[test_set,:]\n",
    "        plt.scatter(x[:,0],x[:,1],c='', edgecolor='black', alpha=1.0,linewidth=1, marker='o',\n",
    "s=100, label='conjunto_testeo')"
   ]
  },
  {
   "cell_type": "code",
   "execution_count": 82,
   "metadata": {},
   "outputs": [
    {
     "data": {
      "image/png": "[encoded data removed]",
      "text/plain": [
       "<Figure size 432x288 with 1 Axes>"
      ]
     },
     "metadata": {},
     "output_type": "display_data"
    }
   ],
   "source": [
    "visualizar_fronteras(x_train_std,y_train,ppn)"
   ]
  },
  {
   "cell_type": "code",
   "execution_count": 86,
   "metadata": {},
   "outputs": [
    {
     "data": {
      "text/plain": [
       "array([[-1.01297765, -1.04211089]])"
      ]
     },
     "execution_count": 86,
     "metadata": {},
     "output_type": "execute_result"
    }
   ],
   "source": [
    "from sklearn.linear_model import LogisticRegression\n",
    "lr=LogisticRegression(C=100,random_state=1)\n",
    "lr.fit(x_train_std,y_train)\n"
   ]
  }
 ],
 "metadata": {
  "kernelspec": {
   "display_name": "Python 3",
   "language": "python",
   "name": "python3"
  },
  "language_info": {
   "codemirror_mode": {
    "name": "ipython",
    "version": 3
   },
   "file_extension": ".py",
   "mimetype": "text/x-python",
   "name": "python",
   "nbconvert_exporter": "python",
   "pygments_lexer": "ipython3",
   "version": "3.7.6"
  }
 },
 "nbformat": 4,
 "nbformat_minor": 4
}
